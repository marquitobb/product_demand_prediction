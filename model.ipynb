{
 "cells": [
  {
   "cell_type": "markdown",
   "metadata": {},
   "source": [
    "## Product Demand Prediction\n",
    "\n",
    "### paso 1:\n",
    "\n",
    "    Esto importa las bibliotecas necesarias para el análisis de datos y el entrenamiento del modelo. pandas se utiliza para la manipulación de datos, numpy para operaciones numéricas, seaborn y matplotlib para la visualización de datos, scikit-learn para el aprendizaje automático y plotly para la visualización interactiva.\n",
    "\n",
    "    El código carga un conjunto de datos desde una URL en formato CSV utilizando pandas. Luego, muestra las primeras filas del conjunto de datos utilizando data.head().\n"
   ]
  },
  {
   "cell_type": "code",
   "execution_count": null,
   "metadata": {},
   "outputs": [],
   "source": [
    "import pandas as pd\n",
    "import numpy as np\n",
    "from sklearn.model_selection import train_test_split\n",
    "from sklearn.tree import DecisionTreeRegressor\n",
    "\n",
    "data = pd.read_csv(\"https://raw.githubusercontent.com/amankharwal/Website-data/master/demand.csv\")\n",
    "data.head()"
   ]
  },
  {
   "cell_type": "markdown",
   "metadata": {},
   "source": [
    "### paso 2:\n",
    "\n",
    "    Este código verifica si hay valores nulos en el conjunto de datos y muestra la cantidad de valores nulos en cada columna. Luego, los valores nulos se eliminan en el código a continuación."
   ]
  },
  {
   "cell_type": "code",
   "execution_count": null,
   "metadata": {},
   "outputs": [],
   "source": [
    "data.isnull().sum()\n"
   ]
  },
  {
   "cell_type": "markdown",
   "metadata": {},
   "source": [
    "Las filas con valores nulos se eliminan del conjunto de datos, ya que no se pueden utilizar para entrenar un modelo de regresión."
   ]
  },
  {
   "cell_type": "code",
   "execution_count": null,
   "metadata": {},
   "outputs": [],
   "source": [
    "data = data.dropna()"
   ]
  },
  {
   "cell_type": "markdown",
   "metadata": {},
   "source": [
    "### paso 3: (Definir variables independientes y dependientes)\n",
    "\n",
    "    Las variables independientes (x) se definen como las columnas \"Total Price\" y \"Base Price\" del conjunto de datos, mientras que la variable dependiente (y) se define como la columna \"Units Sold\". Esto significa que estamos tratando de predecir \"Units Sold\" en función de \"Total Price\" y \"Base Price\".\n",
    "\n",
    "    "
   ]
  },
  {
   "cell_type": "code",
   "execution_count": null,
   "metadata": {},
   "outputs": [],
   "source": [
    "x = data[[\"Total Price\", \"Base Price\"]]\n",
    "y = data[\"Units Sold\"]"
   ]
  },
  {
   "cell_type": "markdown",
   "metadata": {},
   "source": [
    "### paso 4: (ividir los datos en conjuntos de entrenamiento y prueba:)\n",
    "\n",
    "    Los datos se dividen en conjuntos de entrenamiento (xtrain, ytrain) y prueba (xtest, ytest) utilizando train_test_split de scikit-learn. El 80% de los datos se utilizarán para entrenar el modelo, y el 20% restante se utilizará para evaluar el modelo.\n",
    "\n",
    "    Crear un modelo de regresión de árbol de decisión: Un modelo de regresión de árbol de decisión se crea utilizando DecisionTreeRegressor. Luego, el modelo se entrena con los datos de entrenamiento (xtrain, ytrain)."
   ]
  },
  {
   "cell_type": "code",
   "execution_count": null,
   "metadata": {},
   "outputs": [],
   "source": [
    "xtrain, xtest, ytrain, ytest = train_test_split(x, y, test_size=0.2, random_state=46)\n",
    "model = DecisionTreeRegressor()\n",
    "model.fit(xtrain, ytrain)"
   ]
  },
  {
   "cell_type": "markdown",
   "metadata": {},
   "source": [
    "### paso 5: (realiza la prediccion)\n",
    "\n",
    "En este fragmento, se proporciona un conjunto de características (features) que consiste en un precio total de 133.00 y un precio base de 140.00. El modelo de árbol de decisión se utiliza para predecir la cantidad de unidades vendidas basada en estas características. La predicción se realiza utilizando model.predict(features).\n",
    "\n",
    "El resultado de la predicción será una estimación de la cantidad de unidades vendidas basada en las características proporcionadas. Ten en cuenta que este es un ejemplo simplificado y en la práctica, se suelen realizar evaluaciones más exhaustivas del modelo, como la evaluación de métricas de rendimiento y la optimización de hiperparámetros."
   ]
  },
  {
   "cell_type": "code",
   "execution_count": null,
   "metadata": {},
   "outputs": [],
   "source": [
    "#features = [[\"Total Price\", \"Base Price\"]]\n",
    "features = np.array([[133.00, 140.00]])\n",
    "model.predict(features)"
   ]
  }
 ],
 "metadata": {
  "kernelspec": {
   "display_name": "data_science_challenge",
   "language": "python",
   "name": "python3"
  },
  "language_info": {
   "codemirror_mode": {
    "name": "ipython",
    "version": 3
   },
   "file_extension": ".py",
   "mimetype": "text/x-python",
   "name": "python",
   "nbconvert_exporter": "python",
   "pygments_lexer": "ipython3",
   "version": "3.11.5"
  }
 },
 "nbformat": 4,
 "nbformat_minor": 2
}
